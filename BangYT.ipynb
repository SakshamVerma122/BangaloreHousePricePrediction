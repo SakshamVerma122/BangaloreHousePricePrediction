{
 "cells": [
  {
   "cell_type": "code",
   "execution_count": 1,
   "id": "5535f114",
   "metadata": {},
   "outputs": [],
   "source": [
    "import pandas as pd\n",
    "import numpy as np\n",
    "import matplotlib.pyplot as plt\n",
    "import seaborn as sns"
   ]
  },
  {
   "cell_type": "code",
   "execution_count": 70,
   "id": "7e66402d",
   "metadata": {},
   "outputs": [],
   "source": [
    "data = pd.read_csv(\"Bengaluru_House_Data.csv\")"
   ]
  },
  {
   "cell_type": "code",
   "execution_count": 56,
   "id": "e432746d",
   "metadata": {},
   "outputs": [
    {
     "data": {
      "text/html": [
       "<div>\n",
       "<style scoped>\n",
       "    .dataframe tbody tr th:only-of-type {\n",
       "        vertical-align: middle;\n",
       "    }\n",
       "\n",
       "    .dataframe tbody tr th {\n",
       "        vertical-align: top;\n",
       "    }\n",
       "\n",
       "    .dataframe thead th {\n",
       "        text-align: right;\n",
       "    }\n",
       "</style>\n",
       "<table border=\"1\" class=\"dataframe\">\n",
       "  <thead>\n",
       "    <tr style=\"text-align: right;\">\n",
       "      <th></th>\n",
       "      <th>area_type</th>\n",
       "      <th>availability</th>\n",
       "      <th>location</th>\n",
       "      <th>size</th>\n",
       "      <th>society</th>\n",
       "      <th>total_sqft</th>\n",
       "      <th>bath</th>\n",
       "      <th>balcony</th>\n",
       "      <th>price</th>\n",
       "    </tr>\n",
       "  </thead>\n",
       "  <tbody>\n",
       "    <tr>\n",
       "      <th>5170</th>\n",
       "      <td>Built-up  Area</td>\n",
       "      <td>Ready To Move</td>\n",
       "      <td>BTM 2nd Stage</td>\n",
       "      <td>2 BHK</td>\n",
       "      <td>Komesa</td>\n",
       "      <td>1100</td>\n",
       "      <td>2.0</td>\n",
       "      <td>2.0</td>\n",
       "      <td>70.0</td>\n",
       "    </tr>\n",
       "    <tr>\n",
       "      <th>10807</th>\n",
       "      <td>Built-up  Area</td>\n",
       "      <td>18-Jun</td>\n",
       "      <td>Off Sarjapur Road,</td>\n",
       "      <td>2 BHK</td>\n",
       "      <td>NaN</td>\n",
       "      <td>1298</td>\n",
       "      <td>2.0</td>\n",
       "      <td>1.0</td>\n",
       "      <td>65.0</td>\n",
       "    </tr>\n",
       "    <tr>\n",
       "      <th>234</th>\n",
       "      <td>Super built-up  Area</td>\n",
       "      <td>Ready To Move</td>\n",
       "      <td>Kalyan nagar</td>\n",
       "      <td>2 BHK</td>\n",
       "      <td>Anave S</td>\n",
       "      <td>1290</td>\n",
       "      <td>2.0</td>\n",
       "      <td>2.0</td>\n",
       "      <td>110.0</td>\n",
       "    </tr>\n",
       "    <tr>\n",
       "      <th>10670</th>\n",
       "      <td>Super built-up  Area</td>\n",
       "      <td>Ready To Move</td>\n",
       "      <td>Sarjapur</td>\n",
       "      <td>3 BHK</td>\n",
       "      <td>Coa 3t</td>\n",
       "      <td>1445</td>\n",
       "      <td>3.0</td>\n",
       "      <td>1.0</td>\n",
       "      <td>50.0</td>\n",
       "    </tr>\n",
       "    <tr>\n",
       "      <th>1997</th>\n",
       "      <td>Super built-up  Area</td>\n",
       "      <td>19-Oct</td>\n",
       "      <td>Anekal</td>\n",
       "      <td>1 BHK</td>\n",
       "      <td>NaN</td>\n",
       "      <td>530</td>\n",
       "      <td>1.0</td>\n",
       "      <td>1.0</td>\n",
       "      <td>18.0</td>\n",
       "    </tr>\n",
       "    <tr>\n",
       "      <th>11298</th>\n",
       "      <td>Plot  Area</td>\n",
       "      <td>Ready To Move</td>\n",
       "      <td>Byrathi Village</td>\n",
       "      <td>3 Bedroom</td>\n",
       "      <td>NaN</td>\n",
       "      <td>1600</td>\n",
       "      <td>4.0</td>\n",
       "      <td>1.0</td>\n",
       "      <td>120.0</td>\n",
       "    </tr>\n",
       "    <tr>\n",
       "      <th>9790</th>\n",
       "      <td>Built-up  Area</td>\n",
       "      <td>18-Aug</td>\n",
       "      <td>Bommasandra Industrial Area</td>\n",
       "      <td>3 BHK</td>\n",
       "      <td>NaN</td>\n",
       "      <td>1220</td>\n",
       "      <td>2.0</td>\n",
       "      <td>1.0</td>\n",
       "      <td>35.2</td>\n",
       "    </tr>\n",
       "    <tr>\n",
       "      <th>11794</th>\n",
       "      <td>Built-up  Area</td>\n",
       "      <td>Ready To Move</td>\n",
       "      <td>Jalahalli East</td>\n",
       "      <td>2 BHK</td>\n",
       "      <td>Srigmsw</td>\n",
       "      <td>1035</td>\n",
       "      <td>2.0</td>\n",
       "      <td>1.0</td>\n",
       "      <td>42.5</td>\n",
       "    </tr>\n",
       "    <tr>\n",
       "      <th>2531</th>\n",
       "      <td>Super built-up  Area</td>\n",
       "      <td>Ready To Move</td>\n",
       "      <td>Yeshwanthpur</td>\n",
       "      <td>2 BHK</td>\n",
       "      <td>Vatra N</td>\n",
       "      <td>1195</td>\n",
       "      <td>2.0</td>\n",
       "      <td>2.0</td>\n",
       "      <td>100.0</td>\n",
       "    </tr>\n",
       "    <tr>\n",
       "      <th>8530</th>\n",
       "      <td>Super built-up  Area</td>\n",
       "      <td>Ready To Move</td>\n",
       "      <td>Budigere</td>\n",
       "      <td>3 BHK</td>\n",
       "      <td>PrityTr</td>\n",
       "      <td>1820</td>\n",
       "      <td>3.0</td>\n",
       "      <td>2.0</td>\n",
       "      <td>85.0</td>\n",
       "    </tr>\n",
       "  </tbody>\n",
       "</table>\n",
       "</div>"
      ],
      "text/plain": [
       "                  area_type   availability                     location  \\\n",
       "5170         Built-up  Area  Ready To Move                BTM 2nd Stage   \n",
       "10807        Built-up  Area         18-Jun          Off Sarjapur Road,    \n",
       "234    Super built-up  Area  Ready To Move                 Kalyan nagar   \n",
       "10670  Super built-up  Area  Ready To Move                     Sarjapur   \n",
       "1997   Super built-up  Area         19-Oct                       Anekal   \n",
       "11298            Plot  Area  Ready To Move              Byrathi Village   \n",
       "9790         Built-up  Area         18-Aug  Bommasandra Industrial Area   \n",
       "11794        Built-up  Area  Ready To Move               Jalahalli East   \n",
       "2531   Super built-up  Area  Ready To Move                 Yeshwanthpur   \n",
       "8530   Super built-up  Area  Ready To Move                     Budigere   \n",
       "\n",
       "            size  society total_sqft  bath  balcony  price  \n",
       "5170       2 BHK  Komesa        1100   2.0      2.0   70.0  \n",
       "10807      2 BHK      NaN       1298   2.0      1.0   65.0  \n",
       "234        2 BHK  Anave S       1290   2.0      2.0  110.0  \n",
       "10670      3 BHK  Coa 3t        1445   3.0      1.0   50.0  \n",
       "1997       1 BHK      NaN        530   1.0      1.0   18.0  \n",
       "11298  3 Bedroom      NaN       1600   4.0      1.0  120.0  \n",
       "9790       3 BHK      NaN       1220   2.0      1.0   35.2  \n",
       "11794      2 BHK  Srigmsw       1035   2.0      1.0   42.5  \n",
       "2531       2 BHK  Vatra N       1195   2.0      2.0  100.0  \n",
       "8530       3 BHK  PrityTr       1820   3.0      2.0   85.0  "
      ]
     },
     "execution_count": 56,
     "metadata": {},
     "output_type": "execute_result"
    }
   ],
   "source": [
    "# It's better to use sample than head/tail as sample selects randomly \n",
    "data.sample(10)"
   ]
  },
  {
   "cell_type": "code",
   "execution_count": 57,
   "id": "6e9906e1",
   "metadata": {},
   "outputs": [
    {
     "data": {
      "text/plain": [
       "(13320, 9)"
      ]
     },
     "execution_count": 57,
     "metadata": {},
     "output_type": "execute_result"
    }
   ],
   "source": [
    "data.shape"
   ]
  },
  {
   "cell_type": "code",
   "execution_count": 58,
   "id": "31e4f428",
   "metadata": {},
   "outputs": [
    {
     "name": "stdout",
     "output_type": "stream",
     "text": [
      "<class 'pandas.core.frame.DataFrame'>\n",
      "RangeIndex: 13320 entries, 0 to 13319\n",
      "Data columns (total 9 columns):\n",
      " #   Column        Non-Null Count  Dtype  \n",
      "---  ------        --------------  -----  \n",
      " 0   area_type     13320 non-null  object \n",
      " 1   availability  13320 non-null  object \n",
      " 2   location      13319 non-null  object \n",
      " 3   size          13304 non-null  object \n",
      " 4   society       7818 non-null   object \n",
      " 5   total_sqft    13320 non-null  object \n",
      " 6   bath          13247 non-null  float64\n",
      " 7   balcony       12711 non-null  float64\n",
      " 8   price         13320 non-null  float64\n",
      "dtypes: float64(3), object(6)\n",
      "memory usage: 936.7+ KB\n"
     ]
    }
   ],
   "source": [
    "data.info()"
   ]
  },
  {
   "cell_type": "markdown",
   "id": "d577c490",
   "metadata": {},
   "source": [
    "### Calculating the NULL Values"
   ]
  },
  {
   "cell_type": "code",
   "execution_count": 59,
   "id": "ca770067",
   "metadata": {},
   "outputs": [
    {
     "name": "stdout",
     "output_type": "stream",
     "text": [
      "Percentages % of missing values\n",
      "area_type  0.0%\n",
      "availability  0.0%\n",
      "location  0.01%\n",
      "size  0.12%\n",
      "society  41.31%\n",
      "total_sqft  0.0%\n",
      "bath  0.55%\n",
      "balcony  4.57%\n",
      "price  0.0%\n"
     ]
    }
   ],
   "source": [
    "# isna on every column\n",
    "\n",
    "numberCols = data.shape[0]\n",
    "print(\"Percentages % of missing values\")\n",
    "for i in data.columns:\n",
    "    print(f\"{i}  {round((data[i].isna().sum()/numberCols)*100,2)}%\")"
   ]
  },
  {
   "cell_type": "markdown",
   "id": "9d7071c1",
   "metadata": {},
   "source": [
    "From the above we can conclude that 41% of value of society are empty hence It seems better to drop that column"
   ]
  },
  {
   "cell_type": "code",
   "execution_count": 60,
   "id": "ac03ca5c",
   "metadata": {},
   "outputs": [],
   "source": [
    "data.drop(columns = [\"society\"],inplace = True)"
   ]
  },
  {
   "cell_type": "markdown",
   "id": "46611078",
   "metadata": {},
   "source": [
    "### See the unique vals and there domination in the given dataset"
   ]
  },
  {
   "cell_type": "code",
   "execution_count": 61,
   "id": "2b104bf0",
   "metadata": {},
   "outputs": [
    {
     "name": "stdout",
     "output_type": "stream",
     "text": [
      "********************area_type**************************\n",
      "Super built-up  Area    8790\n",
      "Built-up  Area          2418\n",
      "Plot  Area              2025\n",
      "Carpet  Area              87\n",
      "Name: area_type, dtype: int64\n",
      ">>>Number of unique elements: 4<<<\n",
      "***************************************************\n",
      "***************************************************\n",
      "\n",
      "********************availability**************************\n",
      "Ready To Move    10581\n",
      "18-Dec             307\n",
      "18-May             295\n",
      "18-Apr             271\n",
      "18-Aug             200\n",
      "                 ...  \n",
      "17-Jan               1\n",
      "15-Jun               1\n",
      "14-Jul               1\n",
      "15-Aug               1\n",
      "16-Jul               1\n",
      "Name: availability, Length: 81, dtype: int64\n",
      ">>>Number of unique elements: 81<<<\n",
      "***************************************************\n",
      "***************************************************\n",
      "\n",
      "********************location**************************\n",
      "Whitefield               540\n",
      "Sarjapur  Road           399\n",
      "Electronic City          302\n",
      "Kanakpura Road           273\n",
      "Thanisandra              234\n",
      "                        ... \n",
      "Nirman Layout              1\n",
      "Jay an agar 4 T Block      1\n",
      "Chickpet                   1\n",
      "Okalipura                  1\n",
      "Manonarayanapalya          1\n",
      "Name: location, Length: 1305, dtype: int64\n",
      ">>>Number of unique elements: 1306<<<\n",
      "***************************************************\n",
      "***************************************************\n",
      "\n",
      "********************size**************************\n",
      "2 BHK         5199\n",
      "3 BHK         4310\n",
      "4 Bedroom      826\n",
      "4 BHK          591\n",
      "3 Bedroom      547\n",
      "1 BHK          538\n",
      "2 Bedroom      329\n",
      "5 Bedroom      297\n",
      "6 Bedroom      191\n",
      "1 Bedroom      105\n",
      "8 Bedroom       84\n",
      "7 Bedroom       83\n",
      "5 BHK           59\n",
      "9 Bedroom       46\n",
      "6 BHK           30\n",
      "7 BHK           17\n",
      "1 RK            13\n",
      "10 Bedroom      12\n",
      "9 BHK            8\n",
      "8 BHK            5\n",
      "10 BHK           2\n",
      "11 Bedroom       2\n",
      "11 BHK           2\n",
      "18 Bedroom       1\n",
      "27 BHK           1\n",
      "12 Bedroom       1\n",
      "13 BHK           1\n",
      "16 BHK           1\n",
      "19 BHK           1\n",
      "43 Bedroom       1\n",
      "14 BHK           1\n",
      "Name: size, dtype: int64\n",
      ">>>Number of unique elements: 32<<<\n",
      "***************************************************\n",
      "***************************************************\n",
      "\n",
      "********************total_sqft**************************\n",
      "1200             843\n",
      "1100             221\n",
      "1500             205\n",
      "2400             196\n",
      "600              180\n",
      "                ... \n",
      "4482               1\n",
      "2940Sq. Yards      1\n",
      "3300 - 3335        1\n",
      "668                1\n",
      "2466 - 2856        1\n",
      "Name: total_sqft, Length: 2117, dtype: int64\n",
      ">>>Number of unique elements: 2117<<<\n",
      "***************************************************\n",
      "***************************************************\n",
      "\n",
      "********************bath**************************\n",
      "2.0     6908\n",
      "3.0     3286\n",
      "4.0     1226\n",
      "1.0      788\n",
      "5.0      524\n",
      "6.0      273\n",
      "7.0      102\n",
      "8.0       64\n",
      "9.0       43\n",
      "10.0      13\n",
      "12.0       7\n",
      "13.0       3\n",
      "11.0       3\n",
      "16.0       2\n",
      "27.0       1\n",
      "18.0       1\n",
      "40.0       1\n",
      "15.0       1\n",
      "14.0       1\n",
      "Name: bath, dtype: int64\n",
      ">>>Number of unique elements: 20<<<\n",
      "***************************************************\n",
      "***************************************************\n",
      "\n",
      "********************balcony**************************\n",
      "2.0    5113\n",
      "1.0    4897\n",
      "3.0    1672\n",
      "0.0    1029\n",
      "Name: balcony, dtype: int64\n",
      ">>>Number of unique elements: 5<<<\n",
      "***************************************************\n",
      "***************************************************\n",
      "\n",
      "********************price**************************\n",
      "75.00    310\n",
      "65.00    302\n",
      "55.00    275\n",
      "60.00    270\n",
      "45.00    240\n",
      "        ... \n",
      "81.55      1\n",
      "69.49      1\n",
      "42.18      1\n",
      "70.25      1\n",
      "74.82      1\n",
      "Name: price, Length: 1994, dtype: int64\n",
      ">>>Number of unique elements: 1994<<<\n",
      "***************************************************\n",
      "***************************************************\n",
      "\n"
     ]
    }
   ],
   "source": [
    "# value_counts\n",
    "for i in data.columns:\n",
    "    print(f\"********************{i}**************************\")\n",
    "    print(data[i].value_counts())\n",
    "    print(f\">>>Number of unique elements: {len(data[i].unique())}<<<\")\n",
    "    print(\"***************************************************\\n\"*2)"
   ]
  },
  {
   "cell_type": "code",
   "execution_count": 62,
   "id": "754c8284",
   "metadata": {},
   "outputs": [],
   "source": [
    "# Checking balcony relation with the price and labeling them according to"
   ]
  },
  {
   "cell_type": "code",
   "execution_count": 63,
   "id": "454da155",
   "metadata": {},
   "outputs": [
    {
     "data": {
      "text/plain": [
       "Index(['area_type', 'availability', 'location', 'size', 'total_sqft', 'bath',\n",
       "       'balcony', 'price'],\n",
       "      dtype='object')"
      ]
     },
     "execution_count": 63,
     "metadata": {},
     "output_type": "execute_result"
    }
   ],
   "source": [
    "data.columns"
   ]
  },
  {
   "cell_type": "markdown",
   "id": "d912720b",
   "metadata": {},
   "source": [
    "### Checking the variation of flat rates wrt balcony"
   ]
  },
  {
   "cell_type": "code",
   "execution_count": 83,
   "id": "695f79b0",
   "metadata": {},
   "outputs": [
    {
     "data": {
      "text/plain": [
       "<AxesSubplot:>"
      ]
     },
     "execution_count": 83,
     "metadata": {},
     "output_type": "execute_result"
    },
    {
     "data": {
      "image/png": "[encoded data removed]",
      "text/plain": [
       "<Figure size 432x288 with 2 Axes>"
      ]
     },
     "metadata": {
      "needs_background": "light"
     },
     "output_type": "display_data"
    }
   ],
   "source": [
    "sns.heatmap(data.corr(),annot=True)"
   ]
  },
  {
   "cell_type": "markdown",
   "id": "6284da9f",
   "metadata": {},
   "source": [
    "### Dropping the one without location though we might could fill it with modal value"
   ]
  },
  {
   "cell_type": "code",
   "execution_count": 71,
   "id": "e5ea7db8",
   "metadata": {},
   "outputs": [
    {
     "data": {
      "text/html": [
       "<div>\n",
       "<style scoped>\n",
       "    .dataframe tbody tr th:only-of-type {\n",
       "        vertical-align: middle;\n",
       "    }\n",
       "\n",
       "    .dataframe tbody tr th {\n",
       "        vertical-align: top;\n",
       "    }\n",
       "\n",
       "    .dataframe thead th {\n",
       "        text-align: right;\n",
       "    }\n",
       "</style>\n",
       "<table border=\"1\" class=\"dataframe\">\n",
       "  <thead>\n",
       "    <tr style=\"text-align: right;\">\n",
       "      <th></th>\n",
       "      <th>area_type</th>\n",
       "      <th>availability</th>\n",
       "      <th>location</th>\n",
       "      <th>size</th>\n",
       "      <th>society</th>\n",
       "      <th>total_sqft</th>\n",
       "      <th>bath</th>\n",
       "      <th>balcony</th>\n",
       "      <th>price</th>\n",
       "    </tr>\n",
       "  </thead>\n",
       "  <tbody>\n",
       "    <tr>\n",
       "      <th>568</th>\n",
       "      <td>Super built-up  Area</td>\n",
       "      <td>Ready To Move</td>\n",
       "      <td>NaN</td>\n",
       "      <td>3 BHK</td>\n",
       "      <td>Grare S</td>\n",
       "      <td>1600</td>\n",
       "      <td>3.0</td>\n",
       "      <td>2.0</td>\n",
       "      <td>86.0</td>\n",
       "    </tr>\n",
       "  </tbody>\n",
       "</table>\n",
       "</div>"
      ],
      "text/plain": [
       "                area_type   availability location   size  society total_sqft  \\\n",
       "568  Super built-up  Area  Ready To Move      NaN  3 BHK  Grare S       1600   \n",
       "\n",
       "     bath  balcony  price  \n",
       "568   3.0      2.0   86.0  "
      ]
     },
     "execution_count": 71,
     "metadata": {},
     "output_type": "execute_result"
    }
   ],
   "source": [
    "data[data.location.isna()]"
   ]
  },
  {
   "cell_type": "code",
   "execution_count": 66,
   "id": "24d7b15a",
   "metadata": {},
   "outputs": [],
   "source": [
    "data = data.drop(data.location.isna().index)"
   ]
  },
  {
   "cell_type": "code",
   "execution_count": null,
   "id": "0b7ad611",
   "metadata": {},
   "outputs": [],
   "source": []
  }
 ],
 "metadata": {
  "kernelspec": {
   "display_name": "myenv",
   "language": "python",
   "name": "myenv"
  },
  "language_info": {
   "codemirror_mode": {
    "name": "ipython",
    "version": 3
   },
   "file_extension": ".py",
   "mimetype": "text/x-python",
   "name": "python",
   "nbconvert_exporter": "python",
   "pygments_lexer": "ipython3",
   "version": "3.6.13"
  }
 },
 "nbformat": 4,
 "nbformat_minor": 5
}
